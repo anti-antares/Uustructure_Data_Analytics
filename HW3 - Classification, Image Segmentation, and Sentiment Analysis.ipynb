{
 "cells": [
  {
   "cell_type": "markdown",
   "metadata": {},
   "source": [
    "# 95-865 Homework 3"
   ]
  },
  {
   "cell_type": "markdown",
   "metadata": {},
   "source": [
    "Your name: Zhexin Chen\n",
    "\n",
    "Your Andrew ID: zhexinc\n",
    "\n",
    "Collaborators (if none, say \\\"none\\\"; do *not* leave this blank): None"
   ]
  },
  {
   "cell_type": "markdown",
   "metadata": {},
   "source": [
    "# Part 1: Email spam classification [50 points]"
   ]
  },
  {
   "cell_type": "markdown",
   "metadata": {},
   "source": [
    "   - Get the data from: http://www.andrew.cmu.edu/user/georgech/preprocessed-enron-email-dataset.zip\n",
    "   - Unzip this into the same folder as this notebook, rename it to `email-data`\n",
    "   - The folder contains 3 subfolders:\n",
    "      - `ham` contains ham emails.\n",
    "      - `spam` contains spam emails.\n",
    "      - `testing` is a folder containing test emails for your classifier. The ham/spam label is in the filename.\n",
    "      \n",
    "**Important**: For this problem, do *not* use neural nets/deep nets."
   ]
  },
  {
   "cell_type": "markdown",
   "metadata": {},
   "source": [
    "### (a) Print the number of ham and spam emails [1 point]\n",
    " \n",
    "In addition to providing the code, respond to the following questions:\n",
    "\n",
    "   - Is this dataset imbalanced? Will this be problematic in training the model?\n",
    "   - If so, how would you address it?"
   ]
  },
  {
   "cell_type": "code",
   "execution_count": 62,
   "metadata": {},
   "outputs": [
    {
     "name": "stdout",
     "output_type": "stream",
     "text": [
      "1500\n",
      "3671\n"
     ]
    }
   ],
   "source": [
    "#your code here\n",
    "import glob\n",
    "ham_files = glob.glob('./email-data/ham/*.txt')\n",
    "spam_files = glob.glob('./email-data/spam/*.txt')\n",
    "test_files = glob.glob('./email-data/testing/*.txt')\n",
    "\n",
    "\n",
    "print(len(ham_files))\n",
    "print(len(spam_files))"
   ]
  },
  {
   "cell_type": "markdown",
   "metadata": {},
   "source": [
    "### (b) Construct the documents [4 points]\n",
    " \n",
    "   - Provided below is a function that returns a document present in a file given a fileName.\n",
    "   - The function performs some preprocessing to (1) remove punctuation, (2),(3) remove whitespace and (4) lowercase all words.\n",
    "   - Use this function to construct a list of documents.\n",
    "   - Also construct a list of document labels containing `1` for spam and `0` for ham."
   ]
  },
  {
   "cell_type": "code",
   "execution_count": 2,
   "metadata": {},
   "outputs": [],
   "source": [
    "import re\n",
    "import string\n",
    "import codecs\n",
    "\n",
    "def makeWordList(path):\n",
    "    \n",
    "    with codecs.open(path, \"r\", encoding='utf-8', errors='ignore') as f:\n",
    "        corpus_text = f.read()\n",
    "\n",
    "    for c in string.punctuation:\n",
    "        corpus_text = corpus_text.replace(c, \"\")  # -- (1)\n",
    "    \n",
    "    text = re.sub(r'\\S*\\d\\S*','',corpus_text) # -- (2)\n",
    "    text = re.sub(r'[^\\w\\s]','',text)         # -- (3)\n",
    "    \n",
    "    text = text.lower().split()           # -- (4)         \n",
    "    \n",
    "    li = []\n",
    "    for token in text:\n",
    "        li.append(token)\n",
    "\n",
    "    return \" \".join(li)"
   ]
  },
  {
   "cell_type": "code",
   "execution_count": 3,
   "metadata": {},
   "outputs": [],
   "source": [
    "#your code here\n",
    "label=[]\n",
    "documents=[]\n",
    "\n",
    "for file in ham_files[:100]:\n",
    "    documents.append(makeWordList(file))\n",
    "    label.append(0)\n",
    "    \n",
    "for file in spam_files[:100]:\n",
    "    documents.append(makeWordList(file))\n",
    "    label.append(1)\n",
    "doc_label=np.array(label)"
   ]
  },
  {
   "cell_type": "markdown",
   "metadata": {},
   "source": [
    "### (c) Construct the document matrix `X` as a matrix of word frequencies [5 points]\n",
    "\n",
    "   - Use the `CountVectorizer` from scikit-learn.\n",
    "   - Set `min_df=50`; this drops words that don't occur in at least 50 documents.\n",
    "   - Set `stop_words=\"english\"` and `max_df=0.8` to filter out stop-words.\n",
    "   - Print the size of the vocabulary (number of unique words)"
   ]
  },
  {
   "cell_type": "code",
   "execution_count": 5,
   "metadata": {},
   "outputs": [],
   "source": [
    "#your code here\n",
    "from sklearn.feature_extraction.text import CountVectorizer\n",
    "vectorizer = CountVectorizer(max_df=0.8,\n",
    "                                min_df=50,\n",
    "                                stop_words='english')\n",
    "tf = vectorizer.fit_transform(documents)\n",
    "print(vectorizer.vocabulary_)"
   ]
  },
  {
   "cell_type": "markdown",
   "metadata": {},
   "source": [
    "### (d) k-NN, SVM, random forest: Hyperparameter selection [20 points]\n",
    "\n",
    "Now that you have your documents and labels as training data, you can perform 5-fold cross-validation to select the hyperparameters for different learning algorithms.\n",
    "\n",
    "The hyperparameter with the best performance averaged across 5 folds is chosen. Use the **weighted F1-score** as the evaluation metric (i.e., for the `f1_score` function imported from `sklearn.metrics`, be sure to use the parameter `average='weighted'`).\n",
    "\n",
    "   - k-NN: Select `k` from a range of values of your choice.\n",
    "   - SVM: (SVC) Select `C` from a range of your choice, use any kernel that performs well.\n",
    "   - Random forest: Select `n_estimators` **and** `max_depth` from a grid of your choice.\n",
    "\n",
    "Store each chosen hyperparameter as `best_k`, `best_C`, `best_n_estimators`, and `best_max_depth` respectively.\n",
    "\n",
    "Provided is some seed code for cross-validation that you may modify and reuse. Do not use the cross-validations score or grid-search functions from scikit-learn (you may use `KFold`)."
   ]
  },
  {
   "cell_type": "code",
   "execution_count": 49,
   "metadata": {},
   "outputs": [
    {
     "name": "stdout",
     "output_type": "stream",
     "text": [
      "Best k for KNN: 3\n"
     ]
    }
   ],
   "source": [
    "import warnings\n",
    "from sklearn import svm\n",
    "from sklearn.model_selection import KFold\n",
    "import numpy as np\n",
    "from sklearn.neighbors import KNeighborsClassifier\n",
    "from sklearn.metrics import f1_score\n",
    "\n",
    "warnings.simplefilter('ignore')\n",
    "\n",
    "num_folds = 5\n",
    "k_fold = KFold(num_folds)\n",
    "hyperparameter_settings = [k for k in range(1,51)]  # fill this with hyperparameter settings that you want to try\n",
    "\n",
    "indices=range(tf.shape[0])\n",
    "best_k = None\n",
    "best_cross_val_score = -np.inf  # assumes that a higher score is better\n",
    "for hyperparam_setting in hyperparameter_settings:\n",
    "    fold_scores = []\n",
    "    # your code to train and score the training data here\n",
    "    for train_indices, val_indices in k_fold.split(indices):\n",
    "        classifier = KNeighborsClassifier(n_neighbors=hyperparam_setting)\n",
    "        classifier.fit(tf[train_indices],\n",
    "                       doc_label[train_indices])\n",
    "        predicted_val_labels = classifier.predict(tf[val_indices])\n",
    "        pred_score=f1_score(doc_label[val_indices],predicted_val_labels,average='weighted')\n",
    "        fold_scores.append(pred_score)\n",
    "    \n",
    "    cross_val_score = np.mean(fold_scores)\n",
    "    if cross_val_score > best_cross_val_score:  # assumes that a higher score is better\n",
    "        best_cross_val_score = cross_val_score\n",
    "        best_k = hyperparam_setting\n",
    "\n",
    "print('Best k for KNN:', best_k)"
   ]
  },
  {
   "cell_type": "code",
   "execution_count": 56,
   "metadata": {},
   "outputs": [
    {
     "name": "stdout",
     "output_type": "stream",
     "text": [
      "Best C for SVC: 10\n"
     ]
    }
   ],
   "source": [
    "from sklearn.svm import SVC\n",
    "\n",
    "num_folds = 5\n",
    "k_fold = KFold(num_folds)\n",
    "hyperparameter_settings = [1e-3, 1e-2, 1e-1, 1, 10, 100, 1000]  # fill this with hyperparameter settings that you want to try\n",
    "\n",
    "indices=range(tf.shape[0])\n",
    "best_C = None\n",
    "best_cross_val_score = -np.inf  # assumes that a higher score is better\n",
    "for hyperparam_setting in hyperparameter_settings:\n",
    "    fold_scores = []\n",
    "    # your code to train and score the training data here\n",
    "    for train_indices, val_indices in k_fold.split(indices):\n",
    "        classifier = SVC(C=hyperparam_setting)\n",
    "        classifier.fit(tf[train_indices],\n",
    "                       doc_label[train_indices])\n",
    "        predicted_val_labels = classifier.predict(tf[val_indices])\n",
    "        pred_score=f1_score(doc_label[val_indices],predicted_val_labels,average='weighted')\n",
    "        fold_scores.append(pred_score)\n",
    "    \n",
    "    cross_val_score = np.mean(fold_scores)\n",
    "    if cross_val_score > best_cross_val_score:  # assumes that a higher score is better\n",
    "        best_cross_val_score = cross_val_score\n",
    "        best_C = hyperparam_setting\n",
    "\n",
    "print('Best C for SVC:', best_C)"
   ]
  },
  {
   "cell_type": "code",
   "execution_count": 57,
   "metadata": {},
   "outputs": [
    {
     "name": "stdout",
     "output_type": "stream",
     "text": [
      "Best number of trees and max depth for Random Forest: 100 None\n"
     ]
    }
   ],
   "source": [
    "from sklearn.ensemble import RandomForestClassifier\n",
    "num_folds = 5\n",
    "k_fold = KFold(num_folds)\n",
    "hyperparameter_settings = [(num_trees, max_depth)\n",
    "                           for num_trees in [50, 100, 150, 200]\n",
    "                           for max_depth in [3, 4, 5, None]]  # fill this with hyperparameter settings that you want to try\n",
    "\n",
    "best_n_estimators = None\n",
    "best_max_depth = None\n",
    "best_cross_val_score = -np.inf  # assumes that a higher score is better\n",
    "for hyperparam_setting in hyperparameter_settings:\n",
    "    num_trees, max_depth = hyperparam_setting\n",
    "    fold_scores = []\n",
    "    # your code to train and score the training data here\n",
    "    for train_indices, val_indices in k_fold.split(indices):\n",
    "        classifier = RandomForestClassifier(n_estimators=num_trees,\n",
    "                                            max_depth=max_depth)\n",
    "        classifier.fit(tf[train_indices],\n",
    "                       doc_label[train_indices])\n",
    "        predicted_val_labels = classifier.predict(tf[val_indices])\n",
    "        pred_score=f1_score(doc_label[val_indices],predicted_val_labels,average='weighted')\n",
    "        fold_scores.append(pred_score)\n",
    "        \n",
    "    cross_val_score = np.mean(fold_scores)\n",
    "    if cross_val_score > best_cross_val_score:  # assumes that a higher score is better\n",
    "        best_cross_val_score = cross_val_score\n",
    "        best_n_estimators = hyperparam_setting[0]\n",
    "        best_max_depth = hyperparam_setting[1]\n",
    "\n",
    "print('Best number of trees and max depth for Random Forest:', best_n_estimators, best_max_depth)"
   ]
  },
  {
   "cell_type": "markdown",
   "metadata": {},
   "source": [
    "### (e) Classifier testing: Precision-Recall and ROC curves [20 points]\n",
    "\n",
    "   - Use the best hyperparameters for each classifier from the previous question to **train** your classifiers on the training data.\n",
    "   - Use test emails to in the `testing` folder to **test** your classifiers and construct the plots below.\n",
    "\n",
    "Things to plot:\n",
    "\n",
    "   - Construct one plot containing 3 ROC curves, one for each classifier.\n",
    "   - In the legend of this plot, display the AUC for each classifier.\n",
    "   - Construct one plot containing 3 precision-recall curves, one for each classifier.\n",
    "   - In the legend of each plot, display the average precision for each classifier.\n",
    "\n",
    "Note that these plots are on the test data: you will have to read in this data, construct a document matrix and labels. Some words in the test data may not have been present in the training data: there are multiple ways to address this, briefly describe your approach.\n",
    "\n",
    "Things to answer:\n",
    "\n",
    "   - Of the ROC and Precision-Recall curves, which one would you use for this task and why?\n",
    "   - Which classifier is the best, according to your chosen curves?"
   ]
  },
  {
   "cell_type": "markdown",
   "metadata": {},
   "source": [
    "Answer: My approach to address the problem that words in testing dataset are not present in the training set is to combine training and testing dataset together before getting the word frequencies, and get a word frequency matrix for all data. Then I split the matrix into train and test matrix accordingly."
   ]
  },
  {
   "cell_type": "code",
   "execution_count": 82,
   "metadata": {},
   "outputs": [],
   "source": [
    "#your code here\n",
    "import matplotlib.pyplot as plt\n",
    "new_vectorizer = CountVectorizer(max_df=0.8,\n",
    "                                min_df=50,\n",
    "                                stop_words='english')\n",
    "\n",
    "all_label=[]\n",
    "all_documents=[]\n",
    "\n",
    "for file in ham_files[:100]:\n",
    "    all_documents.append(makeWordList(file))\n",
    "    all_label.append(0)\n",
    "    \n",
    "for file in spam_files[:100]:\n",
    "    all_documents.append(makeWordList(file))\n",
    "    all_label.append(1)\n",
    "    \n",
    "for file in test_files[:100]:\n",
    "    all_documents.append(makeWordList(file))\n",
    "    if file[-7:-4]=='ham':\n",
    "        all_label.append(0)\n",
    "    if file[-7:-4]=='pam':\n",
    "        all_label.append(1)\n",
    "\n",
    "all_label=np.array(all_label)"
   ]
  },
  {
   "cell_type": "code",
   "execution_count": 76,
   "metadata": {},
   "outputs": [],
   "source": [
    "# new_tf = new_vectorizer.fit_transform(all_documents)\n",
    "# train_tf=new_tf[:(len(ham_files)+len(spam_files))]\n",
    "# test_tf=new_tf[(len(ham_files)+len(spam_files)):]\n",
    "# train_label=all_label[:(len(ham_files)+len(spam_files))]\n",
    "# test_label=all_label[(len(ham_files)+len(spam_files)):]"
   ]
  },
  {
   "cell_type": "code",
   "execution_count": 80,
   "metadata": {},
   "outputs": [],
   "source": [
    "new_tf = new_vectorizer.fit_transform(all_documents)\n",
    "train_tf=new_tf[:200]\n",
    "test_tf=new_tf[200:]\n",
    "train_label=all_label[:200]\n",
    "test_label=all_label[200:]"
   ]
  },
  {
   "cell_type": "code",
   "execution_count": 85,
   "metadata": {},
   "outputs": [
    {
     "data": {
      "text/plain": [
       "KNeighborsClassifier(algorithm='auto', leaf_size=30, metric='minkowski',\n",
       "           metric_params=None, n_jobs=None, n_neighbors=3, p=2,\n",
       "           weights='uniform')"
      ]
     },
     "execution_count": 85,
     "metadata": {},
     "output_type": "execute_result"
    }
   ],
   "source": [
    "clf_knn=KNeighborsClassifier(n_neighbors=best_k)\n",
    "clf_knn.fit(train_tf,train_label)"
   ]
  },
  {
   "cell_type": "code",
   "execution_count": 84,
   "metadata": {},
   "outputs": [
    {
     "data": {
      "text/plain": [
       "RandomForestClassifier(bootstrap=True, class_weight=None, criterion='gini',\n",
       "            max_depth=None, max_features='auto', max_leaf_nodes=None,\n",
       "            min_impurity_decrease=0.0, min_impurity_split=None,\n",
       "            min_samples_leaf=1, min_samples_split=2,\n",
       "            min_weight_fraction_leaf=0.0, n_estimators=100, n_jobs=None,\n",
       "            oob_score=False, random_state=None, verbose=0,\n",
       "            warm_start=False)"
      ]
     },
     "execution_count": 84,
     "metadata": {},
     "output_type": "execute_result"
    }
   ],
   "source": [
    "clf_rf=RandomForestClassifier(n_estimators=best_n_estimators,\n",
    "                                            max_depth=best_max_depth)\n",
    "clf_rf.fit(train_tf,train_label)"
   ]
  },
  {
   "cell_type": "code",
   "execution_count": 95,
   "metadata": {},
   "outputs": [
    {
     "data": {
      "text/plain": [
       "SVC(C=10, cache_size=200, class_weight=None, coef0=0.0,\n",
       "  decision_function_shape='ovr', degree=3, gamma='auto_deprecated',\n",
       "  kernel='rbf', max_iter=-1, probability=False, random_state=None,\n",
       "  shrinking=True, tol=0.001, verbose=False)"
      ]
     },
     "execution_count": 95,
     "metadata": {},
     "output_type": "execute_result"
    }
   ],
   "source": [
    "clf_svm=SVC(C=best_C)\n",
    "clf_svm.fit(train_tf,train_label)"
   ]
  },
  {
   "cell_type": "code",
   "execution_count": 101,
   "metadata": {},
   "outputs": [
    {
     "data": {
      "text/plain": [
       "Text(0, 0.5, 'TPR')"
      ]
     },
     "execution_count": 101,
     "metadata": {},
     "output_type": "execute_result"
    },
    {
     "data": {
      "image/png": "[encoded data removed]",
      "text/plain": [
       "<Figure size 432x288 with 1 Axes>"
      ]
     },
     "metadata": {
      "needs_background": "light"
     },
     "output_type": "display_data"
    }
   ],
   "source": [
    "from sklearn.metrics import roc_curve\n",
    "\n",
    "colors = ['C2','C3', 'C4']\n",
    "\n",
    "y_score_rf = clf_rf.predict_proba(test_tf)[:,1]\n",
    "fpr_rf, tpr_rf, thresholds_rf = roc_curve(test_label, y_score_rf, pos_label=1)\n",
    "auc_rf = np.trapz(tpr_rf, fpr_rf)\n",
    "label_rf='Random Forest with AUC: '+str(auc_rf)\n",
    "plt.plot(fpr_rf, tpr_rf, linestyle='-', alpha=0.5, color= colors[0], label = label_rf)\n",
    "\n",
    "y_score_svm = clf_svm.decision_function(test_tf)\n",
    "fpr_svm, tpr_svm, thresholds_svm = roc_curve(test_label, y_score_svm, pos_label=1)\n",
    "auc_svm = np.trapz(tpr_svm, fpr_svm)\n",
    "label_svm='SVC with AUC: '+str(auc_svm)\n",
    "plt.plot(fpr_svm, tpr_svm, linestyle='-', alpha=0.5, color= colors[1], label = label_svm)\n",
    "\n",
    "y_score_knn = clf_knn.predict_proba(test_tf)[:,1]\n",
    "fpr_knn, tpr_knn, thresholds_knn = roc_curve(test_label, y_score_knn, pos_label=1)\n",
    "auc_knn = np.trapz(tpr_knn, fpr_knn)\n",
    "label_knn='KNN with AUC: '+str(auc_knn)\n",
    "plt.plot(fpr_knn, tpr_knn, linestyle='-', alpha=0.5, color= colors[2], label = label_knn)\n",
    "\n",
    "plt.legend( loc = 'best')   \n",
    "plt.title(\"ROC curve\")\n",
    "plt.xlabel(\"FPR\")\n",
    "plt.ylabel(\"TPR\")"
   ]
  },
  {
   "cell_type": "code",
   "execution_count": 111,
   "metadata": {},
   "outputs": [
    {
     "data": {
      "text/plain": [
       "Text(0.5, 1.0, 'Precision-Recall curve')"
      ]
     },
     "execution_count": 111,
     "metadata": {},
     "output_type": "execute_result"
    },
    {
     "data": {
      "image/png": "[encoded data removed]",
      "text/plain": [
       "<Figure size 432x288 with 1 Axes>"
      ]
     },
     "metadata": {
      "needs_background": "light"
     },
     "output_type": "display_data"
    }
   ],
   "source": [
    "from sklearn.metrics import precision_recall_curve\n",
    "from sklearn.metrics import average_precision_score\n",
    "\n",
    "average_precision_rf = average_precision_score(test_label, y_score_rf)\n",
    "precision_rf, recall_rf, _ = precision_recall_curve(test_label, y_score_rf)\n",
    "label_rf='Random Forest with AP: '+str(average_precision_rf)\n",
    "plt.step(recall, precision, color=colors[0], alpha=0.2,\n",
    "         where='post',label=label_rf)\n",
    "\n",
    "average_precision_svm = average_precision_score(test_label, y_score_svm)\n",
    "precision_svm, recall_svm, _ = precision_recall_curve(test_label, y_score_svm)\n",
    "label_svm='SVM with AP: '+str(average_precision_svm)\n",
    "plt.step(recall_svm, precision_svm, color=colors[1], alpha=0.2,\n",
    "         where='post',label=label_svm)\n",
    "\n",
    "average_precision_knn = average_precision_score(test_label, y_score_knn)\n",
    "precision_knn, recall_knn, _ = precision_recall_curve(test_label, y_score_knn)\n",
    "label_knn='KNN with AP: '+str(average_precision_knn)\n",
    "plt.step(recall_knn, precision_knn, color=colors[2], alpha=0.2,\n",
    "         where='post',label=label_knn)\n",
    "\n",
    "plt.legend( loc = 'best')   \n",
    "plt.xlabel('Recall')\n",
    "plt.ylabel('Precision')\n",
    "plt.ylim([0.0, 1.05])\n",
    "plt.xlim([0.0, 1.0])\n",
    "plt.title('Precision-Recall curve')"
   ]
  },
  {
   "cell_type": "markdown",
   "metadata": {},
   "source": [
    "Answer: \n",
    "\n",
    "My approach to address the problem that words in testing dataset are not present in the training set is to combine training and testing dataset together before getting the word frequencies, and get a word frequency matrix for all data. Then I split the matrix into train and test matrix accordingly.\n",
    "\n",
    "Of the two curves I would choose Precision-Recall curve, because our dataset is not very balanced between spam and ham e-mails and Precision-Recall curve is more applicable in this case.\n",
    "\n",
    "Using the Precision-Recall curve, Random Forest is a better classifier in our case."
   ]
  },
  {
   "cell_type": "markdown",
   "metadata": {},
   "source": [
    "# Part 2: Image Segmentation [50 points]"
   ]
  },
  {
   "cell_type": "markdown",
   "metadata": {},
   "source": [
    "### What is segmentation?\n",
    "\n",
    "Segmentation is the task of \"labeling\" groups of pixels in an image to identify certain objects.\n",
    "\n",
    "In the early years, research on segmentation was focused on \"foreground-background\" segmentation; marking only those pixels that comprise the \"background\" of an image (in the image below, the background is marked in blue).\n",
    "\n",
    "<div>\n",
    "<img src=\"http://www.eyeshalfclosed.com/images/cat.jpg\" width=500/>\n",
    "</div>\n",
    "\n",
    "In recent years, sophisticated deep-learning models have enabled complex multi-label segmentation, such as in the images below.\n",
    "\n",
    "<tr>\n",
    "<td>\n",
    "<img src=\"http://www.eyeshalfclosed.com/images/sheep.png\" width=500/>\n",
    "</td>\n",
    "<td>\n",
    "<img src=\"http://www.eyeshalfclosed.com/images/street.png\" width=500/>\n",
    "</td>\n",
    "</tr>\n",
    "   "
   ]
  },
  {
   "cell_type": "markdown",
   "metadata": {},
   "source": [
    "### (a) Prerequisites [20 points]\n",
    "\n",
    "You get 20 points for setting up AWS and successfully running the code given in the following sections.\n",
    "\n",
    "This homework needs to be run on an AWS GPU instance; it will not complete in time without a GPU. Look up the relevant documentation to set up an AWS machine as configured below.\n",
    "\n",
    "**Machine.**\n",
    "\n",
    "   - Use the [Ubuntu Deep Learning AMI](https://aws.amazon.com/marketplace/pp/B077GCH38C).\n",
    "   - Use a p2.xlarge instance.\n",
    "   - Allocate at least 80GB of disk space.\n",
    "   - Use the `conda_tensorflow_p36` Conda environment: `source activate tensorflow_p36`\n",
    "   - Create a security group and open all inbound/outbound ports to 0.0.0.0/0.\n",
    "\n",
    "All commands below assume the aforementioned Conda environment is active.\n",
    "\n",
    "**Run Jupyter.** `jupyter notebook --ip=* --no-browser`\n",
    "\n",
    "You may move Jupyter to the background by: CTRL-Z, then `bg`, then `disown`. You can access Jupyter using your public DNS; it will look something like `ec2-54-84-36-171.compute-1.amazonaws.com:8888`. Figure out how you can find this out.\n",
    "\n",
    "**Data downloads.** All downloads must go into the same directory as this notebook. Unzip files after download. *This will take time.*\n",
    "\n",
    "   * Download the [trained model weights](https://github.com/matterport/Mask_RCNN/releases/download/v1.0/mask_rcnn_coco.h5) (~250MB).\n",
    "\n",
    "   * Download the [training images](http://images.cocodataset.org/zips/train2014.zip) (13GB).\n",
    "   \n",
    "   * Download the [validation images](http://images.cocodataset.org/zips/val2014.zip) (6GB).\n",
    "   * Download the [training image annotations](https://dl.dropboxusercontent.com/s/o43o90bna78omob/instances_minival2014.json.zip?dl=0).\n",
    "   * Download the [test image annotations](https://dl.dropboxusercontent.com/s/s3tw5zcg7395368/instances_valminusminival2014.json.zip?dl=0).\n",
    "\n",
    "Now create a new folder named `2014`, then move the `train2014`, `val2014` folders into `2014/`.\n",
    "\n",
    "Create a new `2014/annotations/` folder and move the train and test annotation JSON files into it\n",
    "\n",
    "Your directory structure should look like:\n",
    "```\n",
    "2014/\n",
    "   /annotations/\n",
    "       /annotations/instances_minival2014.json\n",
    "       /annotations/instances_valminusminival2014.json\n",
    "   /train2014/\n",
    "       /train2014/*.jpg\n",
    "   /val2014/\n",
    "       /val2014/*.jpg\n",
    "```\n",
    "\n",
    "**Package installation.**\n",
    "\n",
    "   * Install Cython: `pip install cython`\n",
    "   * Install Tensorflow: `pip install tensorflow tensorflow-gpu`\n",
    "   * Install Keras and image tools: `pip install keras scikit-image pillow h5py`\n",
    "   * Install OpenCV: `pip install opencv-python`\n",
    "   * Install pycoco:\n",
    "   \n",
    "`pip install \"git+https://github.com/philferriere/cocoapi.git#egg=pycocotools&subdirectory=PythonAPI\"`\n",
    "   \n",
    "**GPU.** Ensure Keras/TensorFlow can see your GPU with the following Python code (run in the `conda_tensorflow_p36 environment` after installing all the required packages). You should see a GPU in one of the devices listed."
   ]
  },
  {
   "cell_type": "code",
   "execution_count": null,
   "metadata": {
    "collapsed": true
   },
   "outputs": [],
   "source": [
    "from tensorflow.python.client import device_lib\n",
    "print(device_lib.list_local_devices())"
   ]
  },
  {
   "cell_type": "markdown",
   "metadata": {},
   "source": [
    "### Testing a pre-trained model on small data\n",
    "\n",
    "We will first load a pre-trained convolutional neural network model and test it on a small dataset of images. These images are stored in the `/images/` folder.\n",
    "\n",
    "The model was trained by annotating each image with the objects it contains. Annotations are in the following format:\n",
    "\n",
    "```\n",
    "annotation{\n",
    "    \"id\" : int,\n",
    "    \"image_id\" : int,\n",
    "    \"category_id\" : int,\n",
    "    \"segmentation\" : RLE or [polygon],\n",
    "    \"area\" : float,\n",
    "    \"bbox\" : [x,y,width,height],\n",
    "    \"iscrowd\" : 0 or 1,\n",
    "}\n",
    "\n",
    "categories[{\n",
    "    \"id\" : int,\n",
    "    \"name\" : str,\n",
    "    \"supercategory\" : str,\n",
    "}]\n",
    "```\n",
    "\n",
    "Make sure you understand the annotations and how they are connect to images by looking at [section 4 on this page](http://cocodataset.org/#download). You may ignore the `iscrowd` variable."
   ]
  },
  {
   "cell_type": "markdown",
   "metadata": {},
   "source": [
    "### Set up the environment"
   ]
  },
  {
   "cell_type": "code",
   "execution_count": null,
   "metadata": {
    "collapsed": true
   },
   "outputs": [],
   "source": [
    "import os\n",
    "import sys\n",
    "import random\n",
    "import math\n",
    "import numpy as np\n",
    "import skimage.io\n",
    "import matplotlib\n",
    "import matplotlib.pyplot as plt\n",
    "\n",
    "import coco\n",
    "import utils\n",
    "import model as modellib\n",
    "from model import log\n",
    "import visualize\n",
    "from config import Config\n",
    "from shapes import ShapesDataset\n",
    "\n",
    "from pycocotools.coco import COCO\n",
    "\n",
    "%matplotlib inline \n",
    "\n",
    "ROOT_DIR = os.getcwd()\n",
    "MODEL_DIR = os.path.join(ROOT_DIR, \"logs\")\n",
    "COCO_MODEL_PATH = os.path.join(ROOT_DIR, \"mask_rcnn_coco.h5\")\n",
    "IMAGE_DIR = os.path.join(ROOT_DIR, \"images\")"
   ]
  },
  {
   "cell_type": "markdown",
   "metadata": {},
   "source": [
    "### Model configuration\n",
    "\n",
    "These lines specify how many GPUs to use, and how many images to process in parallel on each GPU."
   ]
  },
  {
   "cell_type": "code",
   "execution_count": null,
   "metadata": {
    "collapsed": true
   },
   "outputs": [],
   "source": [
    "class InferenceConfig(coco.CocoConfig):\n",
    "    # Set batch size to 1 since we'll be running inference on\n",
    "    # one image at a time. Batch size = GPU_COUNT * IMAGES_PER_GPU\n",
    "    GPU_COUNT = 1\n",
    "    IMAGES_PER_GPU = 1\n",
    "\n",
    "config = InferenceConfig()\n",
    "#config.display()"
   ]
  },
  {
   "cell_type": "markdown",
   "metadata": {},
   "source": [
    "### Load the pre-trained model\n",
    "\n",
    "This is actually a Keras model wrapped along with some helpful functions. The model may be loaded in two modes: `training` and `inference` (testing) mode. `model_dir` points towards a directory to save logs and trained weights, which we have set above as the `/logs` directory."
   ]
  },
  {
   "cell_type": "code",
   "execution_count": null,
   "metadata": {
    "collapsed": true
   },
   "outputs": [],
   "source": [
    "%%time\n",
    "model = modellib.MaskRCNN(mode=\"inference\", model_dir=MODEL_DIR, config=config)\n",
    "model.load_weights(COCO_MODEL_PATH, by_name=True)"
   ]
  },
  {
   "cell_type": "markdown",
   "metadata": {},
   "source": [
    "### Hard-code object classes\n",
    "\n",
    "For the small dataset of images we are using, we define our own list of class names and class indices for each object. These are of various types: for example, \"car\", \"bicycle\", etc.."
   ]
  },
  {
   "cell_type": "code",
   "execution_count": null,
   "metadata": {
    "collapsed": true
   },
   "outputs": [],
   "source": [
    "# COCO Class names\n",
    "# Index of the class in the list is its ID. For example, to get ID of\n",
    "# the teddy bear class, use: class_names.index('teddy bear')\n",
    "class_names = ['BG', 'person', 'bicycle', 'car', 'motorcycle', 'airplane',\n",
    "               'bus', 'train', 'truck', 'boat', 'traffic light',\n",
    "               'fire hydrant', 'stop sign', 'parking meter', 'bench', 'bird',\n",
    "               'cat', 'dog', 'horse', 'sheep', 'cow', 'elephant', 'bear',\n",
    "               'zebra', 'giraffe', 'backpack', 'umbrella', 'handbag', 'tie',\n",
    "               'suitcase', 'frisbee', 'skis', 'snowboard', 'sports ball',\n",
    "               'kite', 'baseball bat', 'baseball glove', 'skateboard',\n",
    "               'surfboard', 'tennis racket', 'bottle', 'wine glass', 'cup',\n",
    "               'fork', 'knife', 'spoon', 'bowl', 'banana', 'apple',\n",
    "               'sandwich', 'orange', 'broccoli', 'carrot', 'hot dog', 'pizza',\n",
    "               'donut', 'cake', 'chair', 'couch', 'potted plant', 'bed',\n",
    "               'dining table', 'toilet', 'tv', 'laptop', 'mouse', 'remote',\n",
    "               'keyboard', 'cell phone', 'microwave', 'oven', 'toaster',\n",
    "               'sink', 'refrigerator', 'book', 'clock', 'vase', 'scissors',\n",
    "               'teddy bear', 'hair drier', 'toothbrush']"
   ]
  },
  {
   "cell_type": "markdown",
   "metadata": {},
   "source": [
    "### Load and visualize a random image\n",
    "\n",
    "Make sure you understand what the code below is doing."
   ]
  },
  {
   "cell_type": "code",
   "execution_count": null,
   "metadata": {
    "collapsed": true
   },
   "outputs": [],
   "source": [
    "file_names = next(os.walk(IMAGE_DIR))[2]\n",
    "image = skimage.io.imread(os.path.join(IMAGE_DIR, random.choice(file_names)))\n",
    "plt.imshow(image)\n",
    "plt.show()"
   ]
  },
  {
   "cell_type": "markdown",
   "metadata": {},
   "source": [
    "### Test the pre-trained model\n",
    "\n",
    "We now call the `detect` function of the model on the list of images we want to be segmented. This returns a `result` object; inspect this object to see what it contains.\n",
    "\n",
    "The `visualize` helper module provides useful functions to visualize our segmentation results. Understand how this function works (SHIFT+TAB in Jupyter is useful, as well as looking at the code in `visualize.py` directly)."
   ]
  },
  {
   "cell_type": "code",
   "execution_count": null,
   "metadata": {
    "collapsed": true,
    "scrolled": false
   },
   "outputs": [],
   "source": [
    "%%time\n",
    "results = model.detect([image], verbose=1)\n",
    "r = results[0]\n",
    "visualize.display_instances(image, r['rois'], r['masks'], r['class_ids'], \n",
    "                            class_names, r['scores'])"
   ]
  },
  {
   "cell_type": "markdown",
   "metadata": {},
   "source": [
    "### Training from scratch\n",
    "\n",
    "Now that we understand what a properly trained model should do, we consider training a model from scratch."
   ]
  },
  {
   "cell_type": "markdown",
   "metadata": {},
   "source": [
    "### Load the data\n",
    "\n",
    "Load the annotations for the training images into memory."
   ]
  },
  {
   "cell_type": "code",
   "execution_count": null,
   "metadata": {
    "collapsed": true
   },
   "outputs": [],
   "source": [
    "%%time\n",
    "config = coco.CocoConfig()\n",
    "COCO_DIR = \"2014\"\n",
    "dataset = coco.CocoDataset()\n",
    "dataset.load_coco(COCO_DIR, \"minival\")\n",
    "dataset.prepare()"
   ]
  },
  {
   "cell_type": "markdown",
   "metadata": {},
   "source": [
    "Now load the same for the test images."
   ]
  },
  {
   "cell_type": "code",
   "execution_count": null,
   "metadata": {
    "collapsed": true
   },
   "outputs": [],
   "source": [
    "%%time\n",
    "dataset_val = coco.CocoDataset()\n",
    "dataset_val.load_coco(COCO_DIR, \"val35k\")\n",
    "dataset_val.prepare()"
   ]
  },
  {
   "cell_type": "markdown",
   "metadata": {},
   "source": [
    "### List a few object classes"
   ]
  },
  {
   "cell_type": "code",
   "execution_count": null,
   "metadata": {
    "collapsed": true
   },
   "outputs": [],
   "source": [
    "print(\"Image Count: {}\".format(len(dataset.image_ids)))\n",
    "print(\"Class Count: {}\".format(dataset.num_classes))\n",
    "for i, info in enumerate(dataset.class_info):\n",
    "    print(\"{:3}. {:50}\".format(i, info['name']))\n",
    "    if i > 10:\n",
    "        break"
   ]
  },
  {
   "cell_type": "markdown",
   "metadata": {},
   "source": [
    "### Visualize a random image and its annotations"
   ]
  },
  {
   "cell_type": "code",
   "execution_count": null,
   "metadata": {
    "collapsed": true
   },
   "outputs": [],
   "source": [
    "# Load random image and mask.\n",
    "image_id = random.choice(dataset.image_ids)\n",
    "image = dataset.load_image(image_id)\n",
    "mask, class_ids = dataset.load_mask(image_id)\n",
    "bbox = utils.extract_bboxes(mask)\n",
    "\n",
    "# Display image and additional stats\n",
    "print(\"image_id \", image_id, dataset.image_reference(image_id))\n",
    "log(\"image\", image)\n",
    "log(\"mask\", mask)\n",
    "log(\"class_ids\", class_ids)\n",
    "log(\"bbox\", bbox)\n",
    "\n",
    "# Display image and instances\n",
    "visualize.display_instances(image, bbox, mask, class_ids, dataset.class_names)"
   ]
  },
  {
   "cell_type": "markdown",
   "metadata": {},
   "source": [
    "### Training configuration\n",
    "\n",
    "See the default configuration values in `config.py`."
   ]
  },
  {
   "cell_type": "code",
   "execution_count": null,
   "metadata": {
    "collapsed": true
   },
   "outputs": [],
   "source": [
    "class TrainConfig(coco.CocoConfig):\n",
    "    # Set batch size to 1 since we'll be running inference on\n",
    "    # one image at a time. Batch size = GPU_COUNT * IMAGES_PER_GPU\n",
    "    GPU_COUNT = 1\n",
    "    IMAGES_PER_GPU = 1\n",
    "    STEPS_PER_EPOCH = 60\n",
    "\n",
    "config = TrainConfig()\n",
    "config.display()"
   ]
  },
  {
   "cell_type": "markdown",
   "metadata": {},
   "source": [
    "### (b) Create a new model in training mode [5 points]"
   ]
  },
  {
   "cell_type": "code",
   "execution_count": null,
   "metadata": {},
   "outputs": [],
   "source": [
    "# your code here"
   ]
  },
  {
   "cell_type": "markdown",
   "metadata": {},
   "source": [
    "### (c) Initialize the model weights with the weights learned on COCO [5 points]\n",
    "\n",
    "Call `load_weights` as before, but add the following argument in the call to the function:\n",
    "\n",
    "```\n",
    "exclude=[\"mrcnn_class_logits\", \"mrcnn_bbox_fc\", \n",
    "          \"mrcnn_bbox\", \"mrcnn_mask\"]\n",
    "```"
   ]
  },
  {
   "cell_type": "code",
   "execution_count": null,
   "metadata": {
    "collapsed": true
   },
   "outputs": [],
   "source": [
    "# your code here"
   ]
  },
  {
   "cell_type": "markdown",
   "metadata": {},
   "source": [
    "### (d) Train the model for 10 epochs [5 points]\n",
    "\n",
    "Look up the documentation or code for the train function to figure out its arguments.\n",
    "\n",
    "Pass the following additional arguments to the `train` function:\n",
    "\n",
    "   - `layers=\"heads\"` to only train the weights that were not pre-loaded.\n",
    "   - `learning_rate=config.LEARNING_RATE` to set the learning rate.\n",
    "   - `epochs=10`.\n",
    "   \n",
    "This will take ~10 minutes on a p2.xlarge GPU instance with 1 GPU."
   ]
  },
  {
   "cell_type": "code",
   "execution_count": null,
   "metadata": {
    "collapsed": true
   },
   "outputs": [],
   "source": [
    "%%time\n",
    "# call to train"
   ]
  },
  {
   "cell_type": "markdown",
   "metadata": {},
   "source": [
    "### (e) Visualize learning progress with TensorBoard [5 points]\n",
    "\n",
    "   - Start Tensorboard (in a terminal) with `tensorboard --logdir=logs/` in the same folder as the notebook:\n",
    "```\n",
    "TensorBoard 0.1.8 at http://ip-172-31-27-18:6006 (Press CTRL+C to quit)\n",
    "```\n",
    "\n",
    "   - Connect to (in a web browser) `public_dns:6006` where `public_dns` is your public DNS (this is the address of your AWS machine).\n",
    "   - Click on the \"Scalars\" tab at the top of the page.\n",
    "   - Include a screenshot of the overall loss vs. number of epochs below this line (store the image in the same folder as the notebook as \"yourloss.png\"). **Important: When you submit your HW3, it should include `yourloss.png`.**\n",
    "   \n",
    " <img src=\"yourloss.png\"/>"
   ]
  },
  {
   "cell_type": "markdown",
   "metadata": {},
   "source": [
    "### (f) Test model [10 points]"
   ]
  },
  {
   "cell_type": "markdown",
   "metadata": {},
   "source": [
    "Load the model in inference (testing) mode."
   ]
  },
  {
   "cell_type": "code",
   "execution_count": null,
   "metadata": {
    "collapsed": true
   },
   "outputs": [],
   "source": [
    "# load model"
   ]
  },
  {
   "cell_type": "markdown",
   "metadata": {},
   "source": [
    "Load the last trained model weights."
   ]
  },
  {
   "cell_type": "code",
   "execution_count": null,
   "metadata": {
    "collapsed": true
   },
   "outputs": [],
   "source": [
    "model_path = model.find_last()[1] # use the last trained weights\n",
    "model.load_weights(model_path, by_name=True)"
   ]
  },
  {
   "cell_type": "markdown",
   "metadata": {},
   "source": [
    "Visualize the true annotations of a random test image."
   ]
  },
  {
   "cell_type": "code",
   "execution_count": null,
   "metadata": {
    "collapsed": true
   },
   "outputs": [],
   "source": [
    "image_id = random.choice(dataset_val.image_ids)\n",
    "original_image, image_meta, gt_class_id, gt_bbox, gt_mask =\\\n",
    "    modellib.load_image_gt(dataset_val, inference_config, \n",
    "                           image_id, use_mini_mask=False)\n",
    "\n",
    "log(\"original_image\", original_image)\n",
    "log(\"image_meta\", image_meta)\n",
    "log(\"gt_class_id\", gt_bbox)\n",
    "log(\"gt_bbox\", gt_bbox)\n",
    "log(\"gt_mask\", gt_mask)\n",
    "\n",
    "visualize.display_instances(original_image, gt_bbox, gt_mask, gt_class_id, \n",
    "                            dataset.class_names, figsize=(8, 8))"
   ]
  },
  {
   "cell_type": "markdown",
   "metadata": {},
   "source": [
    "Visualize the predicted annotations for this image"
   ]
  },
  {
   "cell_type": "code",
   "execution_count": null,
   "metadata": {
    "collapsed": true
   },
   "outputs": [],
   "source": [
    "# prediction function call and visualization"
   ]
  },
  {
   "cell_type": "markdown",
   "metadata": {},
   "source": [
    "# Part 3: Sentiment Analysis [50 points]\n",
    "\n",
    "Download data from: http://www.andrew.cmu.edu/user/georgech/HW3-data.zip <br>\n",
    "\n",
    "The folder contains:\n",
    "\n",
    "- train.csv\n",
    "- test.csv"
   ]
  },
  {
   "cell_type": "markdown",
   "metadata": {},
   "source": [
    "### (a) Read the training data  [5 Points]\n",
    "\n",
    "Read the data present in train.csv file. **Please do no change the file name. In particular, use a relative path, i.e., './HW3-data/train.csv'** <br>\n",
    "Perform the following cleaning on the data:\n",
    "1. Keep only the sentiment and sentiment text in the data - the first and the last coumn\n",
    "2. Shuffle the rows of the data frame such that the positive and negative tweets are mixed\n",
    "3. Print the first 5 sentiments.\n",
    "4. Print the number of positive and negative sentiment labels\n",
    "Note: If you are using `open()`, you may have to set `encoding='iso8859'`."
   ]
  },
  {
   "cell_type": "code",
   "execution_count": 6,
   "metadata": {},
   "outputs": [],
   "source": [
    "# your code here\n",
    "import pandas as pd\n",
    "\n",
    "train=pd.read_csv('./HW3-data/train.csv',encoding='iso8859',header=None)"
   ]
  },
  {
   "cell_type": "code",
   "execution_count": 10,
   "metadata": {},
   "outputs": [],
   "source": [
    "train_data=train.iloc[:,[0,5]]"
   ]
  },
  {
   "cell_type": "code",
   "execution_count": 12,
   "metadata": {},
   "outputs": [
    {
     "data": {
      "text/html": [
       "<div>\n",
       "<style scoped>\n",
       "    .dataframe tbody tr th:only-of-type {\n",
       "        vertical-align: middle;\n",
       "    }\n",
       "\n",
       "    .dataframe tbody tr th {\n",
       "        vertical-align: top;\n",
       "    }\n",
       "\n",
       "    .dataframe thead th {\n",
       "        text-align: right;\n",
       "    }\n",
       "</style>\n",
       "<table border=\"1\" class=\"dataframe\">\n",
       "  <thead>\n",
       "    <tr style=\"text-align: right;\">\n",
       "      <th></th>\n",
       "      <th>0</th>\n",
       "      <th>5</th>\n",
       "    </tr>\n",
       "  </thead>\n",
       "  <tbody>\n",
       "    <tr>\n",
       "      <th>0</th>\n",
       "      <td>0</td>\n",
       "      <td>@switchfoot http://twitpic.com/2y1zl - Awww, t...</td>\n",
       "    </tr>\n",
       "    <tr>\n",
       "      <th>1</th>\n",
       "      <td>0</td>\n",
       "      <td>is upset that he can't update his Facebook by ...</td>\n",
       "    </tr>\n",
       "    <tr>\n",
       "      <th>2</th>\n",
       "      <td>0</td>\n",
       "      <td>@Kenichan I dived many times for the ball. Man...</td>\n",
       "    </tr>\n",
       "    <tr>\n",
       "      <th>3</th>\n",
       "      <td>0</td>\n",
       "      <td>my whole body feels itchy and like its on fire</td>\n",
       "    </tr>\n",
       "    <tr>\n",
       "      <th>4</th>\n",
       "      <td>0</td>\n",
       "      <td>@nationwideclass no, it's not behaving at all....</td>\n",
       "    </tr>\n",
       "  </tbody>\n",
       "</table>\n",
       "</div>"
      ],
      "text/plain": [
       "   0                                                  5\n",
       "0  0  @switchfoot http://twitpic.com/2y1zl - Awww, t...\n",
       "1  0  is upset that he can't update his Facebook by ...\n",
       "2  0  @Kenichan I dived many times for the ball. Man...\n",
       "3  0    my whole body feels itchy and like its on fire \n",
       "4  0  @nationwideclass no, it's not behaving at all...."
      ]
     },
     "execution_count": 12,
     "metadata": {},
     "output_type": "execute_result"
    }
   ],
   "source": [
    "train_data.head()"
   ]
  },
  {
   "cell_type": "code",
   "execution_count": 26,
   "metadata": {},
   "outputs": [],
   "source": [
    "train_data=train_data.sample(frac=1).reset_index(drop=True)"
   ]
  },
  {
   "cell_type": "code",
   "execution_count": 46,
   "metadata": {},
   "outputs": [
    {
     "name": "stdout",
     "output_type": "stream",
     "text": [
      "First five sentiments\n",
      "0    0\n",
      "1    0\n",
      "2    0\n",
      "3    0\n",
      "4    1\n",
      "Name: 0, dtype: int64\n"
     ]
    }
   ],
   "source": [
    "print('First five sentiments')\n",
    "print(train_data.iloc[:5,0])"
   ]
  },
  {
   "cell_type": "markdown",
   "metadata": {},
   "source": [
    "### (b) Data Preparation [7 points]"
   ]
  },
  {
   "cell_type": "markdown",
   "metadata": {},
   "source": [
    "Before building a neural network model, we first need to prepare the data. The input to a RNN model  is a matrix with shape (a, b), where a is the number of samples (tweets), and b is the sequence length of each tweet. Prepare the data with the following steps:\n",
    "\n",
    "1\\. Take the RAW texts of the top 5000 tweets in the data and convert them to a list of strings, where each string is a tweet. [1 pt]"
   ]
  },
  {
   "cell_type": "code",
   "execution_count": 50,
   "metadata": {},
   "outputs": [],
   "source": [
    "# your code here\n",
    "string_list=train_data.iloc[:5000,1].tolist()\n",
    "label_list=train_data.iloc[:5000,0].tolist()"
   ]
  },
  {
   "cell_type": "markdown",
   "metadata": {},
   "source": [
    "2\\. Use `Tokenizer` from `keras.preprocessing.text` to tokenize the texts and convert them to sequences (numbers) with the `texts_to_sequences` method of `Tokenizer`. **When tokenizing, please only consider the top 10,000 words in the dataset (`num_words`=10,000)**. [4 pts]"
   ]
  },
  {
   "cell_type": "code",
   "execution_count": 55,
   "metadata": {},
   "outputs": [],
   "source": [
    "# your code here\n",
    "from keras.preprocessing.text import Tokenizer\n",
    "tk=Tokenizer(num_words=10000)\n",
    "tk.fit_on_texts(string_list)\n",
    "freq_list=tk.texts_to_sequences(string_list)"
   ]
  },
  {
   "cell_type": "markdown",
   "metadata": {},
   "source": [
    "3\\. Use `pad_sequences` from `keras.preprocessing.sequence` to pad each sequence with zeros to **make the sequence length 120**. [2 pts]"
   ]
  },
  {
   "cell_type": "code",
   "execution_count": 57,
   "metadata": {},
   "outputs": [],
   "source": [
    "# your code here\n",
    "from keras.preprocessing.sequence import pad_sequences\n",
    "freq_list = pad_sequences(freq_list, maxlen=120)"
   ]
  },
  {
   "cell_type": "markdown",
   "metadata": {},
   "source": [
    "###  (c) Simple RNN [20 points]\n",
    "\n",
    "i) [8 points] Build a simple RNN model with the following specification:\n",
    "1. An embedding layer with output dimenstion 64.\n",
    "2. A simple RNN layer.\n",
    "3. A dense layer with sigmoid activation function for prediction.\n",
    "Print the summary of the model."
   ]
  },
  {
   "cell_type": "code",
   "execution_count": 60,
   "metadata": {},
   "outputs": [
    {
     "name": "stdout",
     "output_type": "stream",
     "text": [
      "_________________________________________________________________\n",
      "Layer (type)                 Output Shape              Param #   \n",
      "=================================================================\n",
      "embedding_2 (Embedding)      (None, 120, 64)           640000    \n",
      "_________________________________________________________________\n",
      "simple_rnn_2 (SimpleRNN)     (None, 120)               22200     \n",
      "_________________________________________________________________\n",
      "dense_2 (Dense)              (None, 1)                 121       \n",
      "=================================================================\n",
      "Total params: 662,321\n",
      "Trainable params: 662,321\n",
      "Non-trainable params: 0\n",
      "_________________________________________________________________\n"
     ]
    }
   ],
   "source": [
    "# your code here\n",
    "from keras.models import Sequential\n",
    "from keras.layers import Embedding, RNN, Dense, SimpleRNN\n",
    "\n",
    "rnn = Sequential()\n",
    "rnn.add(Embedding(10000, 64, input_length=120))\n",
    "rnn.add(SimpleRNN(120))\n",
    "rnn.add(Dense(1, activation='sigmoid'))\n",
    "rnn.summary()"
   ]
  },
  {
   "cell_type": "markdown",
   "metadata": {},
   "source": [
    "ii) [12 points] Now train the simple RNN model:\n",
    "\n",
    "1\\. Compile the model with binary cross entory as loss and accuracy as evaluation metrics."
   ]
  },
  {
   "cell_type": "code",
   "execution_count": 63,
   "metadata": {},
   "outputs": [],
   "source": [
    "# your code here\n",
    "from keras.optimizers import RMSprop\n",
    "rmsprop=RMSprop(lr=0.001, rho=0.9, epsilon=None, decay=0.0)\n",
    "rnn.compile(optimizer=rmsprop,loss='binary_crossentropy',metrics=['acc'])"
   ]
  },
  {
   "cell_type": "markdown",
   "metadata": {},
   "source": [
    "2\\. Fit the model with the training set with 5 epochs (use 20% of the data as validation). Play with the batch size to find a value that seems to work well (for example, you may find a smaller choice like 32 to result in extremely slow learning; try larger values like 512, 1024, etc)."
   ]
  },
  {
   "cell_type": "code",
   "execution_count": 64,
   "metadata": {},
   "outputs": [],
   "source": [
    "label_list=train_data.iloc[:5000,0].tolist()"
   ]
  },
  {
   "cell_type": "code",
   "execution_count": 65,
   "metadata": {},
   "outputs": [
    {
     "name": "stdout",
     "output_type": "stream",
     "text": [
      "Train on 4000 samples, validate on 1000 samples\n",
      "Epoch 1/5\n",
      "4000/4000 [==============================] - 6s 2ms/step - loss: 0.7011 - acc: 0.5135 - val_loss: 0.7218 - val_acc: 0.5110\n",
      "Epoch 2/5\n",
      "4000/4000 [==============================] - 5s 1ms/step - loss: 0.6797 - acc: 0.5767 - val_loss: 0.6890 - val_acc: 0.5340\n",
      "Epoch 3/5\n",
      "4000/4000 [==============================] - 7s 2ms/step - loss: 0.6433 - acc: 0.7700 - val_loss: 0.6870 - val_acc: 0.5430\n",
      "Epoch 4/5\n",
      "4000/4000 [==============================] - 9s 2ms/step - loss: 0.5860 - acc: 0.8653 - val_loss: 0.6870 - val_acc: 0.5420\n",
      "Epoch 5/5\n",
      "4000/4000 [==============================] - 9s 2ms/step - loss: 0.5240 - acc: 0.8927 - val_loss: 0.6910 - val_acc: 0.5390\n"
     ]
    }
   ],
   "source": [
    "# your code here\n",
    "rnn_fit = rnn.fit(freq_list, label_list, validation_split=0.2, epochs=5, batch_size=1024)"
   ]
  },
  {
   "cell_type": "markdown",
   "metadata": {},
   "source": [
    "3\\. Plot the training and validation accuracy across epochs."
   ]
  },
  {
   "cell_type": "code",
   "execution_count": 68,
   "metadata": {},
   "outputs": [
    {
     "data": {
      "image/png": "[encoded data removed]",
      "text/plain": [
       "<Figure size 432x288 with 1 Axes>"
      ]
     },
     "metadata": {
      "needs_background": "light"
     },
     "output_type": "display_data"
    }
   ],
   "source": [
    "# your code here\n",
    "import matplotlib.pyplot as plt\n",
    "acc = rnn_fit.history['acc']\n",
    "val_acc = rnn_fit.history['val_acc']\n",
    "epochs = range(1, len(acc) + 1)\n",
    "plt.plot(epochs, acc, 'bo', label='Training acc')\n",
    "plt.plot(epochs, val_acc, 'b', label='Validation acc')\n",
    "plt.title('Training and validation accuracy')\n",
    "plt.legend()\n",
    "plt.show()"
   ]
  },
  {
   "cell_type": "markdown",
   "metadata": {},
   "source": [
    "### (d) LSTM [4 points] "
   ]
  },
  {
   "cell_type": "markdown",
   "metadata": {},
   "source": [
    "i) [2 point] Now built a LSTM model by replacing the simple RNN layter in the above model with a LSTM layer. Print a summary of the LSTM model."
   ]
  },
  {
   "cell_type": "code",
   "execution_count": 69,
   "metadata": {},
   "outputs": [
    {
     "name": "stdout",
     "output_type": "stream",
     "text": [
      "_________________________________________________________________\n",
      "Layer (type)                 Output Shape              Param #   \n",
      "=================================================================\n",
      "embedding_3 (Embedding)      (None, 120, 64)           640000    \n",
      "_________________________________________________________________\n",
      "lstm_1 (LSTM)                (None, 120)               88800     \n",
      "_________________________________________________________________\n",
      "dense_3 (Dense)              (None, 1)                 121       \n",
      "=================================================================\n",
      "Total params: 728,921\n",
      "Trainable params: 728,921\n",
      "Non-trainable params: 0\n",
      "_________________________________________________________________\n"
     ]
    }
   ],
   "source": [
    "# your code here\n",
    "from keras.layers import LSTM\n",
    "lstm = Sequential()\n",
    "lstm.add(Embedding(10000, 64, input_length=120))\n",
    "lstm.add(LSTM(120))\n",
    "lstm.add(Dense(1, activation='sigmoid'))\n",
    "lstm.summary()"
   ]
  },
  {
   "cell_type": "markdown",
   "metadata": {},
   "source": [
    "ii) [2 point] Train the LSTM model with the same specifications in the simple RNN model. Again, plot the training and validation accuracy across epochs."
   ]
  },
  {
   "cell_type": "code",
   "execution_count": 70,
   "metadata": {},
   "outputs": [
    {
     "name": "stdout",
     "output_type": "stream",
     "text": [
      "Train on 4000 samples, validate on 1000 samples\n",
      "Epoch 1/5\n",
      "4000/4000 [==============================] - 37s 9ms/step - loss: 0.6916 - acc: 0.5287 - val_loss: 0.6864 - val_acc: 0.5570\n",
      "Epoch 2/5\n",
      "4000/4000 [==============================] - 29s 7ms/step - loss: 0.6709 - acc: 0.6053 - val_loss: 0.6687 - val_acc: 0.6280\n",
      "Epoch 3/5\n",
      "4000/4000 [==============================] - 38s 10ms/step - loss: 0.6233 - acc: 0.6752 - val_loss: 0.6518 - val_acc: 0.5980\n",
      "Epoch 4/5\n",
      "4000/4000 [==============================] - 36s 9ms/step - loss: 0.5541 - acc: 0.7410 - val_loss: 0.6227 - val_acc: 0.6770\n",
      "Epoch 5/5\n",
      "4000/4000 [==============================] - 31s 8ms/step - loss: 2.6744 - acc: 0.6980 - val_loss: 0.6120 - val_acc: 0.6790\n"
     ]
    }
   ],
   "source": [
    "# your code here\n",
    "lstm.compile(optimizer=rmsprop,loss='binary_crossentropy',metrics=['acc'])\n",
    "lstm_fit = lstm.fit(freq_list, label_list, validation_split=0.2, epochs=5, batch_size=1024)"
   ]
  },
  {
   "cell_type": "code",
   "execution_count": 71,
   "metadata": {},
   "outputs": [
    {
     "data": {
      "image/png": "[encoded data removed]",
      "text/plain": [
       "<Figure size 432x288 with 1 Axes>"
      ]
     },
     "metadata": {
      "needs_background": "light"
     },
     "output_type": "display_data"
    }
   ],
   "source": [
    "acc = lstm_fit.history['acc']\n",
    "val_acc = lstm_fit.history['val_acc']\n",
    "epochs = range(1, len(acc) + 1)\n",
    "plt.plot(epochs, acc, 'bo', label='Training acc')\n",
    "plt.plot(epochs, val_acc, 'b', label='Validation acc')\n",
    "plt.title('Training and validation accuracy')\n",
    "plt.legend()\n",
    "plt.show()"
   ]
  },
  {
   "cell_type": "markdown",
   "metadata": {},
   "source": [
    "### (e) Evaluation on test data [14 points]"
   ]
  },
  {
   "cell_type": "markdown",
   "metadata": {},
   "source": [
    "i) [5 points] Using the simple RNN and LSTM models from the previous parts (do *not* retrain these using the full training dataset; it's fine to use the same models you learned from before where technically 20% of the training data were held out as validation data), evaluate their performance on the *test* set (`test.csv`). What are the test set raw accuracies that you get?"
   ]
  },
  {
   "cell_type": "code",
   "execution_count": 89,
   "metadata": {},
   "outputs": [],
   "source": [
    "# your code here\n",
    "test=pd.read_csv('./HW3-data/test.csv',encoding='iso8859',header=None)"
   ]
  },
  {
   "cell_type": "code",
   "execution_count": 90,
   "metadata": {},
   "outputs": [
    {
     "name": "stdout",
     "output_type": "stream",
     "text": [
      "498/498 [==============================] - 1s 1ms/step\n",
      "498/498 [==============================] - 1s 2ms/step\n",
      "Accuracy for RNN: 0.58 \n",
      "Accuracy for LSTM 0.45\n"
     ]
    }
   ],
   "source": [
    "test_x = test.iloc[:,5].tolist()\n",
    "test_y = test.iloc[:,0].tolist()\n",
    "tk=Tokenizer(num_words=10000)\n",
    "tk.fit_on_texts(test_x)\n",
    "test_x=tk.texts_to_sequences(test_x)\n",
    "test_x = pad_sequences(test_x, maxlen=120)\n",
    "test_x = pad_sequences(test_x, maxlen=120)\n",
    "rnn_eval=rnn.evaluate(test_x,test_y)\n",
    "lstm_eval=lstm.evaluate(test_x,test_y)\n",
    "print('Accuracy for RNN:',\"{:.2f}\".format(rnn_eval[1]),'\\nAccuracy for LSTM',\"{:.2f}\".format(lstm_eval[1]))"
   ]
  },
  {
   "cell_type": "markdown",
   "metadata": {},
   "source": [
    "ii) [9 points] In the previous models, we only use the top 5000 tweets. Now train the LSTM-based model using the whole training dataset. Again use 20% of the training dataset as validation. After learning the model, test it on the true test set. What is the test set raw accuracy that you get? How does this test set accuracy compare to the validation accuracy, and to the test set accuracy you got from using only 5000 tweets (or technically 5000\\*0.8=4000 tweets to train)?"
   ]
  },
  {
   "cell_type": "code",
   "execution_count": 92,
   "metadata": {},
   "outputs": [],
   "source": [
    "# your code here\n",
    "train=pd.read_csv('./HW3-data/train.csv',encoding='iso8859',header=None)\n",
    "train_x = train.iloc[:,5].tolist()\n",
    "train_y = train.iloc[:,0].tolist()\n"
   ]
  },
  {
   "cell_type": "code",
   "execution_count": 94,
   "metadata": {},
   "outputs": [],
   "source": [
    "tk=Tokenizer(num_words=10000)\n",
    "tk.fit_on_texts(train_x)\n",
    "train_x=tk.texts_to_sequences(train_x)\n",
    "test_x = test.iloc[:,5].tolist()\n",
    "test_x=tk.texts_to_sequences(test_x)\n"
   ]
  },
  {
   "cell_type": "code",
   "execution_count": 95,
   "metadata": {},
   "outputs": [],
   "source": [
    "train_x = pad_sequences(train_x, maxlen=120)\n",
    "test_x = pad_sequences(test_x, maxlen=120)"
   ]
  },
  {
   "cell_type": "code",
   "execution_count": 96,
   "metadata": {},
   "outputs": [
    {
     "name": "stdout",
     "output_type": "stream",
     "text": [
      "_________________________________________________________________\n",
      "Layer (type)                 Output Shape              Param #   \n",
      "=================================================================\n",
      "embedding_4 (Embedding)      (None, 120, 64)           640000    \n",
      "_________________________________________________________________\n",
      "lstm_2 (LSTM)                (None, 120)               88800     \n",
      "_________________________________________________________________\n",
      "dense_4 (Dense)              (None, 1)                 121       \n",
      "=================================================================\n",
      "Total params: 728,921\n",
      "Trainable params: 728,921\n",
      "Non-trainable params: 0\n",
      "_________________________________________________________________\n"
     ]
    }
   ],
   "source": [
    "lstm_new = Sequential()\n",
    "lstm_new.add(Embedding(10000, 64, input_length=120))\n",
    "lstm_new.add(LSTM(120))\n",
    "lstm_new.add(Dense(1, activation='sigmoid'))\n",
    "lstm_new.summary()"
   ]
  },
  {
   "cell_type": "code",
   "execution_count": 97,
   "metadata": {},
   "outputs": [
    {
     "name": "stdout",
     "output_type": "stream",
     "text": [
      "Train on 1280000 samples, validate on 320000 samples\n",
      "Epoch 1/5\n",
      " 131072/1280000 [==>...........................] - ETA: 2:05:10 - loss: 0.5187 - acc: 0.7463"
     ]
    },
    {
     "ename": "KeyboardInterrupt",
     "evalue": "",
     "output_type": "error",
     "traceback": [
      "\u001b[1;31m---------------------------------------------------------------------------\u001b[0m",
      "\u001b[1;31mKeyboardInterrupt\u001b[0m                         Traceback (most recent call last)",
      "\u001b[1;32m<ipython-input-97-f129dbdbabe5>\u001b[0m in \u001b[0;36m<module>\u001b[1;34m\u001b[0m\n\u001b[0;32m      1\u001b[0m \u001b[0mlstm_new\u001b[0m\u001b[1;33m.\u001b[0m\u001b[0mcompile\u001b[0m\u001b[1;33m(\u001b[0m\u001b[0moptimizer\u001b[0m\u001b[1;33m=\u001b[0m\u001b[0mrmsprop\u001b[0m\u001b[1;33m,\u001b[0m\u001b[0mloss\u001b[0m\u001b[1;33m=\u001b[0m\u001b[1;34m'binary_crossentropy'\u001b[0m\u001b[1;33m,\u001b[0m\u001b[0mmetrics\u001b[0m\u001b[1;33m=\u001b[0m\u001b[1;33m[\u001b[0m\u001b[1;34m'acc'\u001b[0m\u001b[1;33m]\u001b[0m\u001b[1;33m)\u001b[0m\u001b[1;33m\u001b[0m\u001b[1;33m\u001b[0m\u001b[0m\n\u001b[1;32m----> 2\u001b[1;33m \u001b[0mlstm_new_fit\u001b[0m \u001b[1;33m=\u001b[0m \u001b[0mlstm_new\u001b[0m\u001b[1;33m.\u001b[0m\u001b[0mfit\u001b[0m\u001b[1;33m(\u001b[0m\u001b[0mtrain_x\u001b[0m\u001b[1;33m,\u001b[0m \u001b[0mtrain_y\u001b[0m\u001b[1;33m,\u001b[0m \u001b[0mvalidation_split\u001b[0m\u001b[1;33m=\u001b[0m\u001b[1;36m0.2\u001b[0m\u001b[1;33m,\u001b[0m \u001b[0mepochs\u001b[0m\u001b[1;33m=\u001b[0m\u001b[1;36m5\u001b[0m\u001b[1;33m,\u001b[0m \u001b[0mbatch_size\u001b[0m\u001b[1;33m=\u001b[0m\u001b[1;36m1024\u001b[0m\u001b[1;33m)\u001b[0m\u001b[1;33m\u001b[0m\u001b[1;33m\u001b[0m\u001b[0m\n\u001b[0m",
      "\u001b[1;32m~\\Anaconda3\\envs\\py36\\lib\\site-packages\\keras\\engine\\training.py\u001b[0m in \u001b[0;36mfit\u001b[1;34m(self, x, y, batch_size, epochs, verbose, callbacks, validation_split, validation_data, shuffle, class_weight, sample_weight, initial_epoch, steps_per_epoch, validation_steps, **kwargs)\u001b[0m\n\u001b[0;32m   1037\u001b[0m                                         \u001b[0minitial_epoch\u001b[0m\u001b[1;33m=\u001b[0m\u001b[0minitial_epoch\u001b[0m\u001b[1;33m,\u001b[0m\u001b[1;33m\u001b[0m\u001b[1;33m\u001b[0m\u001b[0m\n\u001b[0;32m   1038\u001b[0m                                         \u001b[0msteps_per_epoch\u001b[0m\u001b[1;33m=\u001b[0m\u001b[0msteps_per_epoch\u001b[0m\u001b[1;33m,\u001b[0m\u001b[1;33m\u001b[0m\u001b[1;33m\u001b[0m\u001b[0m\n\u001b[1;32m-> 1039\u001b[1;33m                                         validation_steps=validation_steps)\n\u001b[0m\u001b[0;32m   1040\u001b[0m \u001b[1;33m\u001b[0m\u001b[0m\n\u001b[0;32m   1041\u001b[0m     def evaluate(self, x=None, y=None,\n",
      "\u001b[1;32m~\\Anaconda3\\envs\\py36\\lib\\site-packages\\keras\\engine\\training_arrays.py\u001b[0m in \u001b[0;36mfit_loop\u001b[1;34m(model, f, ins, out_labels, batch_size, epochs, verbose, callbacks, val_f, val_ins, shuffle, callback_metrics, initial_epoch, steps_per_epoch, validation_steps)\u001b[0m\n\u001b[0;32m    197\u001b[0m                     \u001b[0mins_batch\u001b[0m\u001b[1;33m[\u001b[0m\u001b[0mi\u001b[0m\u001b[1;33m]\u001b[0m \u001b[1;33m=\u001b[0m \u001b[0mins_batch\u001b[0m\u001b[1;33m[\u001b[0m\u001b[0mi\u001b[0m\u001b[1;33m]\u001b[0m\u001b[1;33m.\u001b[0m\u001b[0mtoarray\u001b[0m\u001b[1;33m(\u001b[0m\u001b[1;33m)\u001b[0m\u001b[1;33m\u001b[0m\u001b[1;33m\u001b[0m\u001b[0m\n\u001b[0;32m    198\u001b[0m \u001b[1;33m\u001b[0m\u001b[0m\n\u001b[1;32m--> 199\u001b[1;33m                 \u001b[0mouts\u001b[0m \u001b[1;33m=\u001b[0m \u001b[0mf\u001b[0m\u001b[1;33m(\u001b[0m\u001b[0mins_batch\u001b[0m\u001b[1;33m)\u001b[0m\u001b[1;33m\u001b[0m\u001b[1;33m\u001b[0m\u001b[0m\n\u001b[0m\u001b[0;32m    200\u001b[0m                 \u001b[0mouts\u001b[0m \u001b[1;33m=\u001b[0m \u001b[0mto_list\u001b[0m\u001b[1;33m(\u001b[0m\u001b[0mouts\u001b[0m\u001b[1;33m)\u001b[0m\u001b[1;33m\u001b[0m\u001b[1;33m\u001b[0m\u001b[0m\n\u001b[0;32m    201\u001b[0m                 \u001b[1;32mfor\u001b[0m \u001b[0ml\u001b[0m\u001b[1;33m,\u001b[0m \u001b[0mo\u001b[0m \u001b[1;32min\u001b[0m \u001b[0mzip\u001b[0m\u001b[1;33m(\u001b[0m\u001b[0mout_labels\u001b[0m\u001b[1;33m,\u001b[0m \u001b[0mouts\u001b[0m\u001b[1;33m)\u001b[0m\u001b[1;33m:\u001b[0m\u001b[1;33m\u001b[0m\u001b[1;33m\u001b[0m\u001b[0m\n",
      "\u001b[1;32m~\\Anaconda3\\envs\\py36\\lib\\site-packages\\keras\\backend\\tensorflow_backend.py\u001b[0m in \u001b[0;36m__call__\u001b[1;34m(self, inputs)\u001b[0m\n\u001b[0;32m   2713\u001b[0m                 \u001b[1;32mreturn\u001b[0m \u001b[0mself\u001b[0m\u001b[1;33m.\u001b[0m\u001b[0m_legacy_call\u001b[0m\u001b[1;33m(\u001b[0m\u001b[0minputs\u001b[0m\u001b[1;33m)\u001b[0m\u001b[1;33m\u001b[0m\u001b[1;33m\u001b[0m\u001b[0m\n\u001b[0;32m   2714\u001b[0m \u001b[1;33m\u001b[0m\u001b[0m\n\u001b[1;32m-> 2715\u001b[1;33m             \u001b[1;32mreturn\u001b[0m \u001b[0mself\u001b[0m\u001b[1;33m.\u001b[0m\u001b[0m_call\u001b[0m\u001b[1;33m(\u001b[0m\u001b[0minputs\u001b[0m\u001b[1;33m)\u001b[0m\u001b[1;33m\u001b[0m\u001b[1;33m\u001b[0m\u001b[0m\n\u001b[0m\u001b[0;32m   2716\u001b[0m         \u001b[1;32melse\u001b[0m\u001b[1;33m:\u001b[0m\u001b[1;33m\u001b[0m\u001b[1;33m\u001b[0m\u001b[0m\n\u001b[0;32m   2717\u001b[0m             \u001b[1;32mif\u001b[0m \u001b[0mpy_any\u001b[0m\u001b[1;33m(\u001b[0m\u001b[0mis_tensor\u001b[0m\u001b[1;33m(\u001b[0m\u001b[0mx\u001b[0m\u001b[1;33m)\u001b[0m \u001b[1;32mfor\u001b[0m \u001b[0mx\u001b[0m \u001b[1;32min\u001b[0m \u001b[0minputs\u001b[0m\u001b[1;33m)\u001b[0m\u001b[1;33m:\u001b[0m\u001b[1;33m\u001b[0m\u001b[1;33m\u001b[0m\u001b[0m\n",
      "\u001b[1;32m~\\Anaconda3\\envs\\py36\\lib\\site-packages\\keras\\backend\\tensorflow_backend.py\u001b[0m in \u001b[0;36m_call\u001b[1;34m(self, inputs)\u001b[0m\n\u001b[0;32m   2673\u001b[0m             \u001b[0mfetched\u001b[0m \u001b[1;33m=\u001b[0m \u001b[0mself\u001b[0m\u001b[1;33m.\u001b[0m\u001b[0m_callable_fn\u001b[0m\u001b[1;33m(\u001b[0m\u001b[1;33m*\u001b[0m\u001b[0marray_vals\u001b[0m\u001b[1;33m,\u001b[0m \u001b[0mrun_metadata\u001b[0m\u001b[1;33m=\u001b[0m\u001b[0mself\u001b[0m\u001b[1;33m.\u001b[0m\u001b[0mrun_metadata\u001b[0m\u001b[1;33m)\u001b[0m\u001b[1;33m\u001b[0m\u001b[1;33m\u001b[0m\u001b[0m\n\u001b[0;32m   2674\u001b[0m         \u001b[1;32melse\u001b[0m\u001b[1;33m:\u001b[0m\u001b[1;33m\u001b[0m\u001b[1;33m\u001b[0m\u001b[0m\n\u001b[1;32m-> 2675\u001b[1;33m             \u001b[0mfetched\u001b[0m \u001b[1;33m=\u001b[0m \u001b[0mself\u001b[0m\u001b[1;33m.\u001b[0m\u001b[0m_callable_fn\u001b[0m\u001b[1;33m(\u001b[0m\u001b[1;33m*\u001b[0m\u001b[0marray_vals\u001b[0m\u001b[1;33m)\u001b[0m\u001b[1;33m\u001b[0m\u001b[1;33m\u001b[0m\u001b[0m\n\u001b[0m\u001b[0;32m   2676\u001b[0m         \u001b[1;32mreturn\u001b[0m \u001b[0mfetched\u001b[0m\u001b[1;33m[\u001b[0m\u001b[1;33m:\u001b[0m\u001b[0mlen\u001b[0m\u001b[1;33m(\u001b[0m\u001b[0mself\u001b[0m\u001b[1;33m.\u001b[0m\u001b[0moutputs\u001b[0m\u001b[1;33m)\u001b[0m\u001b[1;33m]\u001b[0m\u001b[1;33m\u001b[0m\u001b[1;33m\u001b[0m\u001b[0m\n\u001b[0;32m   2677\u001b[0m \u001b[1;33m\u001b[0m\u001b[0m\n",
      "\u001b[1;32m~\\Anaconda3\\envs\\py36\\lib\\site-packages\\tensorflow\\python\\client\\session.py\u001b[0m in \u001b[0;36m__call__\u001b[1;34m(self, *args, **kwargs)\u001b[0m\n\u001b[0;32m   1437\u001b[0m           ret = tf_session.TF_SessionRunCallable(\n\u001b[0;32m   1438\u001b[0m               \u001b[0mself\u001b[0m\u001b[1;33m.\u001b[0m\u001b[0m_session\u001b[0m\u001b[1;33m.\u001b[0m\u001b[0m_session\u001b[0m\u001b[1;33m,\u001b[0m \u001b[0mself\u001b[0m\u001b[1;33m.\u001b[0m\u001b[0m_handle\u001b[0m\u001b[1;33m,\u001b[0m \u001b[0margs\u001b[0m\u001b[1;33m,\u001b[0m \u001b[0mstatus\u001b[0m\u001b[1;33m,\u001b[0m\u001b[1;33m\u001b[0m\u001b[1;33m\u001b[0m\u001b[0m\n\u001b[1;32m-> 1439\u001b[1;33m               run_metadata_ptr)\n\u001b[0m\u001b[0;32m   1440\u001b[0m         \u001b[1;32mif\u001b[0m \u001b[0mrun_metadata\u001b[0m\u001b[1;33m:\u001b[0m\u001b[1;33m\u001b[0m\u001b[1;33m\u001b[0m\u001b[0m\n\u001b[0;32m   1441\u001b[0m           \u001b[0mproto_data\u001b[0m \u001b[1;33m=\u001b[0m \u001b[0mtf_session\u001b[0m\u001b[1;33m.\u001b[0m\u001b[0mTF_GetBuffer\u001b[0m\u001b[1;33m(\u001b[0m\u001b[0mrun_metadata_ptr\u001b[0m\u001b[1;33m)\u001b[0m\u001b[1;33m\u001b[0m\u001b[1;33m\u001b[0m\u001b[0m\n",
      "\u001b[1;31mKeyboardInterrupt\u001b[0m: "
     ]
    }
   ],
   "source": [
    "lstm_new.compile(optimizer=rmsprop,loss='binary_crossentropy',metrics=['acc'])\n",
    "lstm_new_fit = lstm_new.fit(train_x, train_y, validation_split=0.2, epochs=5, batch_size=1024)"
   ]
  },
  {
   "cell_type": "code",
   "execution_count": null,
   "metadata": {},
   "outputs": [],
   "source": [
    "lstm_new_eval=lstm_new.evaluate(test_x,test_y)\n",
    "print('Test accuracy on the full set:',\"{:.2f}\".format(lstm_new_eval[1]))"
   ]
  },
  {
   "cell_type": "markdown",
   "metadata": {},
   "source": [
    "The test accuracy is lower than the validation accuracy, and the test accuracy of the model trained on the full dataset is better than the accuracy of the model trained on the 5000-datapoint dataset, that is because the model on the full set is more likely to capture the generalized information for this specific question."
   ]
  }
 ],
 "metadata": {
  "kernelspec": {
   "display_name": "Python 3",
   "language": "python",
   "name": "python3"
  },
  "language_info": {
   "codemirror_mode": {
    "name": "ipython",
    "version": 3
   },
   "file_extension": ".py",
   "mimetype": "text/x-python",
   "name": "python",
   "nbconvert_exporter": "python",
   "pygments_lexer": "ipython3",
   "version": "3.6.7"
  }
 },
 "nbformat": 4,
 "nbformat_minor": 2
}
